{
 "cells": [
  {
   "cell_type": "markdown",
   "metadata": {
    "slideshow": {
     "slide_type": "slide"
    }
   },
   "source": [
    "# Hashning"
   ]
  },
  {
   "cell_type": "markdown",
   "metadata": {
    "slideshow": {
     "slide_type": "slide"
    }
   },
   "source": [
    "## Hashfunktioner på högstadiet (Tildatenta 181022)\n",
    "\n",
    "Redan andra dagen på ditt nya jobb på en högstadieskola blir du uppkallad till rektorn. Det går rykten om att du sprider drogpropaganda. Du förklarar att du undervisat om ”bra hashfunktioner”, inte ”bra funktioner hos hasch”. För att rektorn (som är geografilärare) ska förstå tar du följande exempel:\n",
    "Vi har befolkningsdata för 250 000 orter, och vill snabbt kunna slå upp ett ortsnamn, t ex ”Korpilombolo” och få ut folkmängden (522).\n",
    "Vilka av följande hashfunktioner skulle fungera för detta exempel? Vilka skulle fungera dåligt?\n",
    "\n",
    "a) summan av bokstävernas nummer, dvs 65+66+67 för ’ABC’\n",
    "\n",
    "b) produkten av bokstävernas nummer, dvs 65*66*67 för ’ABC’\n",
    "\n",
    "c) bokstävernas nummer skrivna efter varann som ett tal, dvs 656667 för ’ABC’\n",
    "\n",
    "\n",
    "Motivera dina svar för rektorn!"
   ]
  },
  {
   "cell_type": "markdown",
   "metadata": {
    "slideshow": {
     "slide_type": "slide"
    }
   },
   "source": [
    "## Skriv den bästa med kod"
   ]
  },
  {
   "cell_type": "code",
   "execution_count": 5,
   "metadata": {
    "slideshow": {
     "slide_type": "fragment"
    }
   },
   "outputs": [
    {
     "data": {
      "text/plain": [
       "22100"
      ]
     },
     "execution_count": 5,
     "metadata": {},
     "output_type": "execute_result"
    }
   ],
   "source": [
    "def hash(string, listSize = 25000) -> int:\n",
    "\thash_string = \"\"\n",
    "\tfor letter in string:\n",
    "\t\tletter_number = ord(letter)\n",
    "\t\tletter_code = str(letter_number)\n",
    "\t\thash_string += letter_code\n",
    "\t\n",
    "\tfull_hash = int(hash_string)\n",
    "\treturn full_hash % listSize\n",
    "\n",
    "hash(\"Ystad\")"
   ]
  },
  {
   "cell_type": "markdown",
   "metadata": {
    "slideshow": {
     "slide_type": "slide"
    }
   },
   "source": [
    "## Hasha pappor (Tildatenta 171020)\n",
    "\n",
    "BVC ordnar pappagrupper för nyblivna fäder. Papporna ska hashas in i en hashtabell på följande vis:\n",
    "- Hashtabellen har 13 platser\n",
    "- Vid krock används krocklistor\n",
    "- Hashfunktionen är summan av siffrorna i pappans födelsedag och månad.   \n",
    "\n",
    "Den som är född 23/10 får alltså hashvärdet 2 + 3 + 1 + 0 = 6.   \n",
    "Rita upp hashtabellen, med eventuella krocklistor, för följande åtta pappor:   \n",
    "- Amir 28/10\n",
    "- Bedrich 1/6\n",
    "- Calvin 15/5\n",
    "- Dubaku 11/11\n",
    "- Ejvind 21/12\n",
    "- Filip 23/2\n",
    "- Gus 2/5\n",
    "- Henrik 19/1"
   ]
  },
  {
   "cell_type": "markdown",
   "metadata": {
    "slideshow": {
     "slide_type": "slide"
    }
   },
   "source": [
    "## Perfekt Hashning\n",
    "\n",
    "Hitta på en perfekt hashfunktion för atomer. Hur stor blir hashtabellen?"
   ]
  },
  {
   "cell_type": "markdown",
   "metadata": {
    "slideshow": {
     "slide_type": "subslide"
    }
   },
   "source": [
    "Låt a=1, b=2, ..., z=26 och A=0, B=27, ..., Z=675 (25*27)   \n",
    "\n",
    "Då blir hash(\"A\")=0 och hash(\"Zz\")=701, så det behövs 702 platser i hashtabellen (dvs ca sex gånger mer än antalet element). Ingen extra luft behövs - det blir inga krockar!"
   ]
  },
  {
   "cell_type": "markdown",
   "metadata": {
    "slideshow": {
     "slide_type": "slide"
    }
   },
   "source": [
    "## Håll reda på media  (Tildatenta 030308)\n",
    "\n",
    "Under gulfkriget var det väldigt svårt för armestaben att hålla reda på alla TV-bolag som for omkring och rapporterade i öknen. För att hålla reda på dem användes en hashvektor. Koden fungerade inte som avsett och man har nu gett i uppdrag åt en f.d. tildastudent att titta på en misstänkt del av koden:\n",
    "\n",
    "```\n",
    "p = 100\n",
    "hashvektor = [0] * p\n",
    "alfabet = \"abcdefghijklmnopqrstuvxyz\"\n",
    "\n",
    "def put(tvbolagsnamn, tvbolag):\n",
    "    hashcode = 0\n",
    "    for i in range(len(tvbolagsnamn)):\n",
    "        alfanum = alfabet.find(tvbolagsnamn[i]) + 1\n",
    "        hashcode += alfanum\n",
    "    hashcode = hashcode % p\n",
    "    hashvektor[hashcode] = tvbolag\n",
    "```\n",
    "\n",
    "Vad är det för fel på koden? Beskriv hur man kan förbättra den. Namnen på TV-bolagen kan antas bestå av högst tre bokstäver. Det kommer inte att förekomma mer än 75 TV-bolag."
   ]
  },
  {
   "cell_type": "markdown",
   "metadata": {
    "slideshow": {
     "slide_type": "slide"
    }
   },
   "source": [
    "## Nix till telefonförsäljning (Tilda-tenta 000603)\n",
    "Föreningen för konsumentskydd vid marknadsföring per telefon har startat ett register dit den som inte vill bli uppringd av telefonförsäljare kan anmäla sig.\n",
    "\n",
    "Till att börja kommer kontrollen att ske genom att företaget sänder sin telefonlista till nix och får tillbaka en lista där de nixade numren markerats.\n",
    "\n",
    "Vilka av följande metoder kan föreningen använda sig av? Vilken är bäst? Binärträd, bloomfilter, hashtabell.\n",
    "\n",
    "Ett framtida mål är att kontroll också skall kunna ske över internet. Då måste kontrollen ske snabbt men man vill också försäkra sig om att ingen ska kunna få ut en lista över alla nixade telefonnummer.\n",
    "\n",
    "Vilken metod passar bäst för internet-kontrollen?\n",
    "\n"
   ]
  }
 ],
 "metadata": {
  "celltoolbar": "Slideshow",
  "interpreter": {
   "hash": "6378bf335c0a80665ecdfc9fc50e613a4369618d8dc0e07b98d206b78d93e191"
  },
  "kernelspec": {
   "display_name": "Python 3 (ipykernel)",
   "language": "python",
   "name": "python3"
  },
  "language_info": {
   "codemirror_mode": {
    "name": "ipython",
    "version": 3
   },
   "file_extension": ".py",
   "mimetype": "text/x-python",
   "name": "python",
   "nbconvert_exporter": "python",
   "pygments_lexer": "ipython3",
   "version": "3.9.6"
  }
 },
 "nbformat": 4,
 "nbformat_minor": 2
}
